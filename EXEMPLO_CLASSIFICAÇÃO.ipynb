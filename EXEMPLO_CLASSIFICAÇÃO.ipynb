{
  "nbformat": 4,
  "nbformat_minor": 0,
  "metadata": {
    "colab": {
      "provenance": []
    },
    "kernelspec": {
      "name": "python3",
      "display_name": "Python 3"
    },
    "language_info": {
      "name": "python"
    }
  },
  "cells": [
    {
      "cell_type": "code",
      "execution_count": null,
      "metadata": {
        "colab": {
          "base_uri": "https://localhost:8080/"
        },
        "id": "RbvkEmxhE_JB",
        "outputId": "fae4f657-3b87-4729-d7a2-9f19d1913598"
      },
      "outputs": [
        {
          "output_type": "stream",
          "name": "stdout",
          "text": [
            "Previsão para o novo e-mail: Não Spam\n"
          ]
        }
      ],
      "source": [
        "# Técnica Naive Bayes\n",
        "from sklearn.naive_bayes import GaussianNB\n",
        "\n",
        "# Dados de exemplo\n",
        "x = [[100, 20], [150, 30], [120, 25], [140, 28]]\n",
        "y = ['Não Spam', 'Spam', 'Não Spam', 'Spam']\n",
        "\n",
        "# Treinando o modelo\n",
        "model = GaussianNB()\n",
        "model.fit(x, y)\n",
        "\n",
        "# Previsão para um novo e-mail\n",
        "novo_email = [[130, 22]]\n",
        "resultado = model.predict(novo_email)\n",
        "print(f\"Previsão para o novo e-mail: {resultado[0]}\")"
      ]
    },
    {
      "cell_type": "code",
      "source": [
        "# Técnica Naive Bayes\n",
        "# Passo 1: Importar as bibliotecas necessárias\n",
        "import numpy as np\n",
        "from sklearn.model_selection import train_test_split\n",
        "from sklearn.feature_extraction.text import CountVectorizer\n",
        "from sklearn.naive_bayes import MultinomialNB\n",
        "from sklearn.metrics import accuracy_score\n",
        "\n",
        "# Passo 2: Preparar os dados\n",
        "emails = [ \"Oferta imperdível! Ganhe 50% de desconto em todos os produtos!\",\n",
        "           \"Você ganhou um prêmio de R$ 10.000! Clique aqui para resgatar.\",\n",
        "           \"Confira as novas ofertas da loja. Não perca!\",\n",
        "           \"Reunião de equipe amanhã às 10h. Por favor, confirme sua presença.\",\n",
        "           \"Lembrete: pagamento da fatura do cartão de crédito vence amanhã.\"\n",
        "]\n",
        "\n",
        "labels = [1, 1, 1, 0, 0] # 1 para spam, 0 para não spam\n",
        "\n",
        "# Passo 3: Transformar os dados em uma matriz de contagem de palavras (bag of words)\n",
        "vectorizer = CountVectorizer()\n",
        "x = vectorizer.fit_transform(emails)\n",
        "\n",
        "# Passo 4: Dividir os dads em conjunto de treinamento e conjunto de teste\n",
        "x_train, x_test, y_train, y_test = train_test_split(x, labels, test_size=0.2, random_state=42)\n",
        "\n",
        "# Passo 5: Criar e treinar o modelo\n",
        "model = MultinomialNB() # Criar o modelo Naive Bayes multinomial\n",
        "model.fit(x_train, y_train) # Treinar o modelo com os dados de treinamento\n",
        "\n",
        "# Passo 6: Fazer previsões\n",
        "predictions = model.predict(x_test) # Fazer previsões usando o conjunto de teste\n",
        "\n",
        "# Passo 7: Avaliar a precisão do modelo\n",
        "accuracy = accuracy_score(y_test, predictions) # Caleular a precisão do modelo\n",
        "print(\"Accuracy: \", accuracy)"
      ],
      "metadata": {
        "colab": {
          "base_uri": "https://localhost:8080/"
        },
        "id": "pOsnSIm1cU5Z",
        "outputId": "0a037aa6-c048-4f1e-cb78-cc31555976a7"
      },
      "execution_count": 7,
      "outputs": [
        {
          "output_type": "stream",
          "name": "stdout",
          "text": [
            "Accuracy:  1.0\n"
          ]
        }
      ]
    },
    {
      "cell_type": "code",
      "source": [
        "# Técnica K-Nearest Neighbors (KNN)\n",
        "# Passo 1: Importar as bibliotecas necessárias\n",
        "import numpy as np\n",
        "from sklearn.model_selection import train_test_split\n",
        "from sklearn.feature_extraction.text import CountVectorizer\n",
        "from sklearn.neighbors import KNeighborsClassifier\n",
        "from sklearn.metrics import accuracy_score\n",
        "\n",
        "# Passo 2: Preparar os dados\n",
        "emails = [ \"Oferta imperdível! Ganhe 50% de desconto em todos os produtos!\",\n",
        "           \"Você ganhou um prêmio de R$ 10.000! Clique aqui para resgatar.\",\n",
        "           \"Confira as novas ofertas da loja. Não perca!\",\n",
        "           \"Reunião de equipe amanhã às 10h. Por favor, confirme sua presença.\",\n",
        "           \"Lembrete: pagamento da fatura do cartão de crédito vence amanhã.\"\n",
        "]\n",
        "\n",
        "labels = [1, 1, 1, 0, 0] # 1 para spam, 0 para não spam\n",
        "\n",
        "# Passo 3: Transformar os dados em uma matriz de contagem de palavras (bag of words)\n",
        "vectorizer = CountVectorizer()\n",
        "x = vectorizer.fit_transform(emails)\n",
        "\n",
        "# Passo 4: Dividir os dads em conjunto de treinamento e conjunto de teste\n",
        "x_train, x_test, y_train, y_test = train_test_split(x, labels, test_size=0.2, random_state=42)\n",
        "\n",
        "# Passo 5: Criar e treinar o modelo\n",
        "model = KNeighborsClassifier(n_neighbors=3) # Criar o modelo KNN com 3 vizinhos\n",
        "model.fit(x_train, y_train) # Treinar o modelo com os dados de treinamento\n",
        "\n",
        "# Passo 6: Fazer previsões\n",
        "predictions = model.predict(x_test) # Fazer previsões usando o conjunto de teste\n",
        "\n",
        "# Passo 7: Avaliar a precisão do modelo\n",
        "accuracy = accuracy_score(y_test, predictions) # Calcular a precisão do modelo\n",
        "print(\"Accuracy: \", accuracy)"
      ],
      "metadata": {
        "colab": {
          "base_uri": "https://localhost:8080/"
        },
        "id": "26J12VG6dlCM",
        "outputId": "241b0ffd-dd93-4e97-9c81-a9ab3a4478b6"
      },
      "execution_count": 8,
      "outputs": [
        {
          "output_type": "stream",
          "name": "stdout",
          "text": [
            "Accuracy:  1.0\n"
          ]
        }
      ]
    },
    {
      "cell_type": "code",
      "source": [
        "# Técnica Support Vector Machine (SVM)\n",
        "# Passo 1: Importar as bibliotecas necessárias\n",
        "from sklearn.model_selection import train_test_split\n",
        "from sklearn.feature_extraction.text import CountVectorizer\n",
        "from sklearn.svm import SVC\n",
        "from sklearn.metrics import accuracy_score\n",
        "\n",
        "# Passo 2: Preparar os dados\n",
        "emails = [ \"Oferta imperdível! Ganhe 50% de desconto em todos os produtos!\",\n",
        "           \"Você ganhou um prêmio de R$ 10.000! Clique aqui para resgatar.\",\n",
        "           \"Confira as novas ofertas da loja. Não perca!\",\n",
        "           \"Reunião de equipe amanhã às 10h. Por favor, confirme sua presença.\",\n",
        "           \"Lembrete: pagamento da fatura do cartão de crédito vence amanhã.\"\n",
        "]\n",
        "\n",
        "labels = [1, 1, 1, 0, 0] # 1 para spam, 0 para não spam\n",
        "\n",
        "# Passo 3: Transformar os dados em uma matriz de contagem de palavras (bag of words)\n",
        "vectorizer = CountVectorizer()\n",
        "x = vectorizer.fit_transform(emails)\n",
        "\n",
        "# Passo 4: Dividir os dads em conjunto de treinamento e conjunto de teste\n",
        "x_train, x_test, y_train, y_test = train_test_split(x, labels, test_size=0.2, random_state=42)\n",
        "\n",
        "# Passo 5: Criar e treinar o modelo\n",
        "model = SVC(kernel='linear') # Criar o modelo SVM com kernel linear\n",
        "model.fit(x_train, y_train) # Treinar o modelo com os dados de treinamento\n",
        "\n",
        "# Passo 6: Fazer previsões\n",
        "predictions = model.predict(x_test) # Fazer previsões usando o conjunto de teste\n",
        "\n",
        "# Passo 7: Avaliar a precisão do modelo\n",
        "accuracy = accuracy_score(y_test, predictions) # Caleular a precisão do modelo\n",
        "print(\"Accuracy: \", accuracy)"
      ],
      "metadata": {
        "colab": {
          "base_uri": "https://localhost:8080/"
        },
        "id": "8ZeJDwDbeA1c",
        "outputId": "ac4ac66c-ebe2-4111-d030-252473d690fb"
      },
      "execution_count": 9,
      "outputs": [
        {
          "output_type": "stream",
          "name": "stdout",
          "text": [
            "Accuracy:  1.0\n"
          ]
        }
      ]
    },
    {
      "cell_type": "code",
      "source": [
        "# Técnica Árvore de Decisão\n",
        "# Passo 1: Importar as bibliotecas necessárias\n",
        "from sklearn.model_selection import train_test_split\n",
        "from sklearn.feature_extraction.text import CountVectorizer\n",
        "from sklearn.tree import DecisionTreeClassifier\n",
        "from sklearn.metrics import accuracy_score\n",
        "\n",
        "# Passo 2: Preparar os dados\n",
        "emails = [ \"Oferta imperdível! Ganhe 50% de desconto em todos os produtos!\",\n",
        "           \"Você ganhou um prêmio de R$ 10.000! Clique aqui para resgatar.\",\n",
        "           \"Confira as novas ofertas da loja. Não perca!\",\n",
        "           \"Reunião de equipe amanhã às 10h. Por favor, confirme sua presença.\",\n",
        "           \"Lembrete: pagamento da fatura do cartão de crédito vence amanhã.\"\n",
        "]\n",
        "\n",
        "labels = [1, 1, 1, 0, 0] # 1 para spam, 0 para não spam\n",
        "\n",
        "# Passo 3: Transformar os dados em uma matriz de contagem de palavras (bag of words)\n",
        "vectorizer = CountVectorizer()\n",
        "x = vectorizer.fit_transform(emails)\n",
        "\n",
        "# Passo 4: Dividir os dads em conjunto de treinamento e conjunto de teste\n",
        "x_train, x_test, y_train, y_test = train_test_split(x, labels, test_size=0.2, random_state=42)\n",
        "\n",
        "# Passo 5: Criar e treinar o modelo\n",
        "model = DecisionTreeClassifier() # Criar o modelo de Àrvore de Decisão\n",
        "model.fit(x_train, y_train) # Treinar o modelo com os dados de treinamento\n",
        "\n",
        "# Passo 6: Fazer previsões\n",
        "predictions = model.predict(x_test) # Fazer previsões usando o conjunto de teste\n",
        "\n",
        "# Passo 7: Avaliar a precisão do modelo\n",
        "accuracy = accuracy_score(y_test, predictions) # Caleular a precisão do modelo\n",
        "print(\"Accuracy: \", accuracy)"
      ],
      "metadata": {
        "colab": {
          "base_uri": "https://localhost:8080/"
        },
        "id": "zN0Rm7CieQ4d",
        "outputId": "6e85d16c-6d62-4c65-b4ba-c0ab6cf43c00"
      },
      "execution_count": 10,
      "outputs": [
        {
          "output_type": "stream",
          "name": "stdout",
          "text": [
            "Accuracy:  1.0\n"
          ]
        }
      ]
    }
  ]
}